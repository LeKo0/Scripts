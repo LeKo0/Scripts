{
 "cells": [
  {
   "cell_type": "code",
   "execution_count": 1,
   "metadata": {},
   "outputs": [],
   "source": [
    "from google.cloud import texttospeech as tts\n",
    "from google.cloud import translate\n",
    "from scipy.io import wavfile\n",
    "import matplotlib.pyplot as plt\n",
    "import numpy as np\n",
    "from io import BytesIO\n",
    "import librosa\n",
    "\n",
    "%matplotlib inline "
   ]
  },
  {
   "cell_type": "code",
   "execution_count": 2,
   "metadata": {
    "scrolled": false
   },
   "outputs": [],
   "source": [
    "TTS_CLIENT = tts.TextToSpeechClient()\n",
    "TRANS_CLIENT = translate.Client()"
   ]
  },
  {
   "cell_type": "code",
   "execution_count": 3,
   "metadata": {},
   "outputs": [],
   "source": [
    "VOICES_LIST = TTS_CLIENT.list_voices().ListFields()[0][1]\n",
    "WAVENET_VOICES = [voice for voice in VOICES_LIST if 'Wavenet' in voice.ListFields()[1][1]]\n",
    "STANDARD_VOICES = [voice for voice in VOICES_LIST if 'Standard' in voice.ListFields()[1][1]]"
   ]
  },
  {
   "cell_type": "code",
   "execution_count": 4,
   "metadata": {},
   "outputs": [],
   "source": [
    "SELECTED_VOICES = list()\n",
    "list_ = [0,1,2,3,4,5,6,7,8,9,13,17,26,27,28]\n",
    "\n",
    "for i, voice in enumerate(VOICES_LIST):\n",
    "    if i in list_:\n",
    "        SELECTED_VOICES.append(voice)"
   ]
  },
  {
   "cell_type": "code",
   "execution_count": 5,
   "metadata": {},
   "outputs": [],
   "source": [
    "def get_VoiceSelectionParams(voice):\n",
    "    \n",
    "    voice_data = voice.ListFields()\n",
    "    \n",
    "    return tts.types.VoiceSelectionParams(\n",
    "        language_code = voice_data[1][1], # Using the name to define the language\n",
    "        ssml_gender = voice_data[2][1],\n",
    "    )"
   ]
  },
  {
   "cell_type": "code",
   "execution_count": 6,
   "metadata": {},
   "outputs": [],
   "source": [
    "def get_lang(voice):\n",
    "    \n",
    "    return voice.ListFields()[0][1][0]"
   ]
  },
  {
   "cell_type": "code",
   "execution_count": 7,
   "metadata": {},
   "outputs": [],
   "source": [
    "def translate(word, target, client=TRANS_CLIENT):\n",
    "\n",
    "    translation = client.translate(\n",
    "            str(word),\n",
    "            target_language=target)\n",
    "    return translation['translatedText']"
   ]
  },
  {
   "cell_type": "code",
   "execution_count": 8,
   "metadata": {},
   "outputs": [],
   "source": [
    "def get_synthetic_audio(voice, text, client=TTS_CLIENT):\n",
    "\n",
    "    input_text = tts.types.SynthesisInput(text=text)\n",
    "\n",
    "    audio_config = tts.types.AudioConfig(\n",
    "        audio_encoding=tts.enums.AudioEncoding.LINEAR16)\n",
    "    voice_selection_params = get_VoiceSelectionParams(voice)\n",
    "\n",
    "    response = client.synthesize_speech(input_text, voice_selection_params, audio_config)\n",
    "    return wavfile.read(BytesIO(response.audio_content))\n"
   ]
  },
  {
   "cell_type": "code",
   "execution_count": 9,
   "metadata": {},
   "outputs": [],
   "source": [
    "def generate_data(word, voices_list):\n",
    "    \n",
    "    audios = list()\n",
    "    labels = list()\n",
    "    rates = list()\n",
    "\n",
    "    \n",
    "    for i, voice in enumerate(voices_list):\n",
    "        \n",
    "        translated_word = word\n",
    "        lang = get_lang(voice)\n",
    "        \n",
    "        # Array slice is to get the first par the the locale (eg. '[fr]_ca')\n",
    "        if lang[:2] is not 'en':\n",
    "            translated_word = translate(word, lang[:2])\n",
    "            \n",
    "        rate, audio =  get_synthetic_audio(voice, translated_word)   \n",
    "        \n",
    "        audios.append(audio)\n",
    "        rates.append(rate)\n",
    "        labels.append(\"{} - {}\".format(i,lang))\n",
    "        \n",
    "    return (audios, labels, rates)"
   ]
  },
  {
   "cell_type": "code",
   "execution_count": 10,
   "metadata": {},
   "outputs": [],
   "source": [
    "dog_audios, dog_labels, dog_rates = generate_data('dog', SELECTED_VOICES)"
   ]
  },
  {
   "cell_type": "code",
   "execution_count": 11,
   "metadata": {},
   "outputs": [],
   "source": [
    "trimmed_audios = list()\n",
    "\n",
    "for audio in dog_audios:\n",
    "    trimmed_audios.append(audio[audio>0.5])"
   ]
  },
  {
   "cell_type": "code",
   "execution_count": 12,
   "metadata": {},
   "outputs": [],
   "source": [
    "padded_audios = list()\n",
    "\n",
    "for audio in trimmed_audios:\n",
    "    padded_audios.append(librosa.util.fix_length(audio, 10000))"
   ]
  },
  {
   "cell_type": "code",
   "execution_count": 14,
   "metadata": {},
   "outputs": [],
   "source": [
    "shape = (len(SELECTED_VOICES),10000)\n",
    "X = np.concatenate(padded_audios).reshape(shape)"
   ]
  },
  {
   "cell_type": "code",
   "execution_count": 15,
   "metadata": {},
   "outputs": [
    {
     "name": "stderr",
     "output_type": "stream",
     "text": [
      "/home/leko/python/env/lib/python3.6/site-packages/sklearn/utils/validation.py:475: DataConversionWarning: Data with input dtype int16 was converted to float64 by StandardScaler.\n",
      "  warnings.warn(msg, DataConversionWarning)\n"
     ]
    }
   ],
   "source": [
    "from sklearn.preprocessing import StandardScaler\n",
    "\n",
    "scaler = StandardScaler()\n",
    "X_scaled = scaler.fit_transform(X)"
   ]
  },
  {
   "cell_type": "code",
   "execution_count": 16,
   "metadata": {},
   "outputs": [],
   "source": [
    "from sklearn.manifold import TSNE\n",
    "\n",
    "tsne = TSNE(n_components=2, random_state=42)\n",
    "X_reduced = tsne.fit_transform(X_scaled)"
   ]
  },
  {
   "cell_type": "code",
   "execution_count": 19,
   "metadata": {},
   "outputs": [
    {
     "data": {
      "text/plain": [
       "<Figure size 1440x1440 with 0 Axes>"
      ]
     },
     "metadata": {},
     "output_type": "display_data"
    },
    {
     "data": {
      "image/png": "[encoded data removed]",
      "text/plain": [
       "<Figure size 1080x1080 with 1 Axes>"
      ]
     },
     "metadata": {},
     "output_type": "display_data"
    },
    {
     "data": {
      "text/plain": [
       "<Figure size 1440x1440 with 0 Axes>"
      ]
     },
     "metadata": {},
     "output_type": "display_data"
    }
   ],
   "source": [
    "plt.rcParams[\"figure.figsize\"] = (15,15)fig, ax = plt.subplots()\n",
    "plt.figure(figsize=(20,20))\n",
    "ax.scatter(X_reduced[:, 0], X_reduced[:, 1])\n",
    "\n",
    "for i, label in enumerate(dog_labels):\n",
    "    ax.annotate(label, (X_reduced[i, 0], X_reduced[i, 1]))"
   ]
  },
  {
   "cell_type": "code",
   "execution_count": 18,
   "metadata": {},
   "outputs": [],
   "source": []
  }
 ],
 "metadata": {
  "kernelspec": {
   "display_name": "Python 3",
   "language": "python",
   "name": "python3"
  },
  "language_info": {
   "codemirror_mode": {
    "name": "ipython",
    "version": 3
   },
   "file_extension": ".py",
   "mimetype": "text/x-python",
   "name": "python",
   "nbconvert_exporter": "python",
   "pygments_lexer": "ipython3",
   "version": "3.6.6"
  }
 },
 "nbformat": 4,
 "nbformat_minor": 2
}
